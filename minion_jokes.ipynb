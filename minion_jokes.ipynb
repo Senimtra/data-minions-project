{
 "cells": [
  {
   "cell_type": "code",
   "execution_count": null,
   "metadata": {},
   "outputs": [],
   "source": [
    "# Imports\n",
    "\n",
    "import requests\n",
    "import json\n",
    "import time"
   ]
  },
  {
   "cell_type": "code",
   "execution_count": null,
   "metadata": {},
   "outputs": [],
   "source": [
    "# Choose your favorite minion\n",
    "\n",
    "minions = ['Dave', 'John', 'Mark', 'Stuart', 'Donnie', 'Lance', 'Ken']\n",
    "\n",
    "def choose_minion():\n",
    "   global your_minion\n",
    "   x = input('Choose your favorite Minion!!')\n",
    "   if x in minions:\n",
    "      your_minion = x\n",
    "   else: choose_minion()\n",
    "\n",
    "choose_minion()\n",
    "\n",
    "print(f'{your_minion}: BOSS!!!!!')"
   ]
  },
  {
   "cell_type": "code",
   "execution_count": null,
   "metadata": {},
   "outputs": [],
   "source": [
    "# \"Tell me a joke!\"\n",
    "\n",
    "def tell_joke():\n",
    "   global joke_english, joke_banana\n",
    "   response = requests.get('https://v2.jokeapi.dev/joke/Miscellaneous?blacklistFlags=nsfw,religious,political,racist,sexist,explicit&type=single')\n",
    "   time.sleep(2)\n",
    "   joke_english = response.json()['joke']\n",
    "   joke_banana = to_banana_lang(joke_english)\n",
    "   print(f'{your_minion} (Banana Language):\\n{joke_banana}')\n",
    "\n",
    "def to_banana_lang(joke_english):\n",
    "   params = {'text': joke_english}\n",
    "   response = requests.get('https://api.funtranslations.com/translate/minion.json', params)\n",
    "   time.sleep(2)\n",
    "   # check api request limit\n",
    "   try:\n",
    "      to_banana_joke = json.loads(response.content)['contents']['translated']\n",
    "   except:\n",
    "      to_banana_joke = json.loads(response.content)\n",
    "   return to_banana_joke\n",
    "\n",
    "tell_joke()"
   ]
  },
  {
   "cell_type": "code",
   "execution_count": null,
   "metadata": {},
   "outputs": [],
   "source": [
    "# Translation 'Banana language' => English\n",
    "\n",
    "print(f\"{your_minion} (broken English): Ok, I'll translate it for you:\")\n",
    "time.sleep(3)\n",
    "print(f'(Banana Language): {joke_banana}')\n",
    "print(f'(English): {joke_english}')"
   ]
  }
 ],
 "metadata": {
  "kernelspec": {
   "display_name": "Python 3.11.0 64-bit",
   "language": "python",
   "name": "python3"
  },
  "language_info": {
   "codemirror_mode": {
    "name": "ipython",
    "version": 3
   },
   "file_extension": ".py",
   "mimetype": "text/x-python",
   "name": "python",
   "nbconvert_exporter": "python",
   "pygments_lexer": "ipython3",
   "version": "3.11.0"
  },
  "orig_nbformat": 4,
  "vscode": {
   "interpreter": {
    "hash": "5238573367df39f7286bb46f9ff5f08f63a01a80960060ce41e3c79b190280fa"
   }
  }
 },
 "nbformat": 4,
 "nbformat_minor": 2
}
