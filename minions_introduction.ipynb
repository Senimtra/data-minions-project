{
 "cells": [
  {
   "cell_type": "code",
   "execution_count": null,
   "id": "e75b3808",
   "metadata": {},
   "outputs": [],
   "source": [
    "# Imports\n",
    "\n",
    "import requests\n",
    "import pandas as pd\n",
    "\n",
    "from bs4 import BeautifulSoup"
   ]
  },
  {
   "cell_type": "code",
   "execution_count": null,
   "id": "5dc94c7e",
   "metadata": {},
   "outputs": [],
   "source": [
    "# Website with information on main figures of Minions\n",
    "\n",
    "Bob = 'https://despicableme.fandom.com/wiki/Bob'\n",
    "Stuart = 'https://despicableme.fandom.com/wiki/Stuart'\n",
    "Dave = 'https://despicableme.fandom.com/wiki/Dave'\n",
    "Kevin = 'https://despicableme.fandom.com/wiki/Kevin_(Despicable_Me_2)'  "
   ]
  },
  {
   "cell_type": "code",
   "execution_count": null,
   "id": "aca67cb7",
   "metadata": {},
   "outputs": [],
   "source": [
    "# Get information from different url of main figures\n",
    "\n",
    "bob_response = requests.get(Bob)\n",
    "stuart_response = requests.get(Stuart)\n",
    "dave_response = requests.get(Dave)\n",
    "kevin_response = requests.get(Kevin)"
   ]
  },
  {
   "cell_type": "code",
   "execution_count": null,
   "id": "04d73fc2",
   "metadata": {},
   "outputs": [],
   "source": [
    "# Checking the status of the url\n",
    "\n",
    "bob_response.status_code\n",
    "stuart_response.status_code\n",
    "dave_response.status_code\n",
    "kevin_response.status_code"
   ]
  },
  {
   "cell_type": "code",
   "execution_count": null,
   "id": "cac63bf5",
   "metadata": {},
   "outputs": [],
   "source": [
    "# Get the content of the url\n",
    "\n",
    "bob_soup = BeautifulSoup(bob_response.content)\n",
    "stuart_soup = BeautifulSoup(stuart_response.content)\n",
    "dave_soup = BeautifulSoup(dave_response.content)\n",
    "kevin_soup = BeautifulSoup(kevin_response.content)"
   ]
  },
  {
   "cell_type": "code",
   "execution_count": null,
   "id": "79fb4b5a",
   "metadata": {},
   "outputs": [],
   "source": [
    "# Get the images of main figures\n",
    "\n",
    "bob_image_src = bob_soup.find_all('img')[2]['src']\n",
    "stuart_image_src = stuart_soup.find_all('img')[1]['srcset']\n",
    "dave_image_src = dave_soup.find_all('img')[1]['srcset']\n",
    "kevin_image_src = kevin_soup.find_all('img')[1]['srcset']\n",
    "\n",
    "print(bob_image_src,stuart_image_src,dave_image_src,kevin_image_src)"
   ]
  },
  {
   "cell_type": "code",
   "execution_count": null,
   "id": "61621b3e",
   "metadata": {},
   "outputs": [],
   "source": [
    "# Get the text of eye color of main figures\n",
    "\n",
    "bob_eye_color = bob_soup.find_all('aside')[0].find_all('div')[1].get_text().replace('\\n',' ')\n",
    "stuart_eye_color = stuart_soup.find_all('aside')[0].find_all('div')[1].get_text().replace('\\n',' ')\n",
    "dave_eye_color = dave_soup.find_all('aside')[0].find_all('div')[1].get_text().replace('\\n',' ')\n",
    "kevin_eye_color = kevin_soup.find_all('aside')[0].find_all('div')[1].get_text().replace('\\n',' ')\n",
    "\n",
    "print(bob_eye_color,'/',stuart_eye_color,'/',dave_eye_color,'/',kevin_eye_color)"
   ]
  },
  {
   "cell_type": "code",
   "execution_count": null,
   "id": "92757277",
   "metadata": {},
   "outputs": [],
   "source": [
    "# Get the text of occupation of main figures\n",
    "\n",
    "bob_occupation = bob_soup.find_all('aside')[0].find_all('div')[2].get_text().replace('\\n',' ')\n",
    "stuart_occupation = stuart_soup.find_all('aside')[0].find_all('div')[4].get_text().replace('\\n',' ')\n",
    "dave_occupation = dave_soup.find_all('aside')[0].find_all('div')[2].get_text().replace('\\n',' ')\n",
    "kevin_occupation = kevin_soup.find_all('aside')[0].find_all('div')[4].get_text().replace('\\n',' ')\n",
    "\n",
    "print(bob_occupation,'/',stuart_occupation,'/',dave_occupation,'/',kevin_occupation)"
   ]
  },
  {
   "cell_type": "code",
   "execution_count": null,
   "id": "f10947a6",
   "metadata": {},
   "outputs": [],
   "source": [
    "# Get the text of appearance of main figures\n",
    "\n",
    "bob_appearance = bob_soup.find_all('p')[5].get_text().replace('\\n','')\n",
    "stuart_appearance = stuart_soup.find_all('p')[3].get_text().replace('\\n','')\n",
    "dave_appearance = dave_soup.find_all('p')[3].get_text().replace('\\n','')\n",
    "kevin_appearance = kevin_soup.find_all('p')[7].get_text().replace('\\n','')\n",
    "\n",
    "print(bob_appearance,'/',stuart_appearance,'/',dave_appearance,'/',kevin_appearance)"
   ]
  },
  {
   "cell_type": "code",
   "execution_count": null,
   "id": "0e74737a",
   "metadata": {},
   "outputs": [],
   "source": [
    "# Get the text of personality of main figures\n",
    "\n",
    "bob_personality = bob_soup.find_all('p')[6].get_text().replace('\\n','')\n",
    "stuart_personality = stuart_soup.find_all('p')[4].get_text().replace('\\n','')\n",
    "dave_personality = dave_soup.find_all('p')[4].get_text().replace('\\n','')\n",
    "kevin_personality = kevin_soup.find_all('p')[8].get_text().replace('\\n','')\n",
    "\n",
    "print(bob_personality,'/',stuart_personality,'/',dave_personality,'/',kevin_personality)"
   ]
  },
  {
   "cell_type": "code",
   "execution_count": null,
   "id": "4224e576",
   "metadata": {},
   "outputs": [],
   "source": [
    "# Put the information on minions in dataframe\n",
    "\n",
    "names = ['Bob', 'Stuart', 'Dave', 'Kevin']\n",
    "eye_color = [bob_eye_color, stuart_eye_color, dave_eye_color, kevin_eye_color]\n",
    "image = [bob_image_src, stuart_image_src, dave_image_src, kevin_image_src]\n",
    "occupation = [bob_occupation, stuart_occupation, dave_occupation, kevin_occupation]\n",
    "appearance = [bob_appearance, stuart_appearance, dave_appearance, kevin_appearance]\n",
    "personality = [bob_personality, stuart_personality, dave_personality, kevin_personality]\n",
    "\n",
    "dataframe = pd.DataFrame(zip(names, image, eye_color, occupation, appearance, personality), columns = ['Name', 'Image', 'Eye color', 'Occupation', 'Appearance', 'Personality'])\n",
    "\n",
    "dataframe"
   ]
  }
 ],
 "metadata": {
  "kernelspec": {
   "display_name": "Python 3.11.0 64-bit",
   "language": "python",
   "name": "python3"
  },
  "language_info": {
   "codemirror_mode": {
    "name": "ipython",
    "version": 3
   },
   "file_extension": ".py",
   "mimetype": "text/x-python",
   "name": "python",
   "nbconvert_exporter": "python",
   "pygments_lexer": "ipython3",
   "version": "3.11.0"
  },
  "vscode": {
   "interpreter": {
    "hash": "5238573367df39f7286bb46f9ff5f08f63a01a80960060ce41e3c79b190280fa"
   }
  }
 },
 "nbformat": 4,
 "nbformat_minor": 5
}
