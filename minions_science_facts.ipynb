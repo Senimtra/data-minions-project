{
 "cells": [
  {
   "cell_type": "markdown",
   "id": "4aa2c3ff",
   "metadata": {},
   "source": [
    "## Web Scrapping Science Facts\n",
    "Source: https://www.natgeokids.com/uk/category/discover/science/"
   ]
  },
  {
   "cell_type": "code",
   "execution_count": null,
   "id": "75066d82",
   "metadata": {},
   "outputs": [],
   "source": [
    "# Importing necessary libraries \n",
    "\n",
    "import re\n",
    "import requests\n",
    "import json\n",
    "import IPython\n",
    "import random\n",
    "\n",
    "from bs4 import BeautifulSoup"
   ]
  },
  {
   "cell_type": "code",
   "execution_count": null,
   "id": "a06b160a",
   "metadata": {},
   "outputs": [],
   "source": [
    "# We call the main url we want to scrape\n",
    "\n",
    "url = 'https://www.natgeokids.com/uk/category/discover/science/'\n",
    "\n",
    "response = requests.get(url)\n",
    "response.status_code\n",
    "soup = BeautifulSoup(response.content)"
   ]
  },
  {
   "cell_type": "code",
   "execution_count": null,
   "id": "c9bbb11a",
   "metadata": {},
   "outputs": [],
   "source": [
    "# We explore the page and find the different subpages to use\n",
    "\n",
    "link = soup.find_all('div',attrs={'class':'card-content'})"
   ]
  },
  {
   "cell_type": "code",
   "execution_count": null,
   "id": "d7d4689a",
   "metadata": {},
   "outputs": [],
   "source": [
    "# We create a list to have stored our subpages from where we will find all the information needed\n",
    "\n",
    "urls = []\n",
    "\n",
    "for item in link:\n",
    "    url_list= item.find_all('a', href=True)\n",
    "    urls.append(url_list)"
   ]
  },
  {
   "cell_type": "code",
   "execution_count": null,
   "id": "1050e382",
   "metadata": {},
   "outputs": [],
   "source": [
    "# We clean the result to only see the urls\n",
    "\n",
    "clean_urls = re.findall('http[s]?:\\/\\/(?:[a-zA-Z]|[0-9]|[$-_@.&+]|[!*\\(\\),]|(?:%[0-9a-fA-F][0-9a-fA-F]))+', str(urls))\n",
    "\n",
    "clean_urls"
   ]
  },
  {
   "cell_type": "code",
   "execution_count": null,
   "id": "ec2aa99c",
   "metadata": {},
   "outputs": [],
   "source": [
    "# We're only interested in urls showing facts, so we filter it down and store our final list\n",
    "\n",
    "facts_urls = [url for url in clean_urls if 'facts' in url]\n",
    "\n",
    "facts_urls"
   ]
  },
  {
   "cell_type": "code",
   "execution_count": null,
   "id": "075edd59",
   "metadata": {},
   "outputs": [],
   "source": [
    "# We take now 5 different links from our facts_urls: Mars, Space, Human Body, The Earth, and Stephen Hawking"
   ]
  },
  {
   "cell_type": "markdown",
   "id": "477a7bbe",
   "metadata": {},
   "source": [
    "### Mars Facts"
   ]
  },
  {
   "cell_type": "code",
   "execution_count": null,
   "id": "b4968fa1",
   "metadata": {},
   "outputs": [],
   "source": [
    "# We call the first url to scrape: facts about Mars\n",
    "\n",
    "response = requests.get(url='https://www.natgeokids.com/uk/discover/science/space/facts-about-mars/')\n",
    "response.status_code\n",
    "soup = BeautifulSoup(response.content)"
   ]
  },
  {
   "cell_type": "code",
   "execution_count": null,
   "id": "b74d81fa",
   "metadata": {},
   "outputs": [],
   "source": [
    "# Mars Facts location\n",
    "\n",
    "mars = soup.find('div',attrs={'class':'article-sheet'}).find_all('p')"
   ]
  },
  {
   "cell_type": "code",
   "execution_count": null,
   "id": "ae6258e8",
   "metadata": {},
   "outputs": [],
   "source": [
    "# List of Mars Facts\n",
    "\n",
    "mars_facts = []\n",
    "\n",
    "for item in mars:\n",
    "    facts = item.get_text().replace('\\xa0',' ')\n",
    "    mars_facts.append(facts)"
   ]
  },
  {
   "cell_type": "code",
   "execution_count": null,
   "id": "3bda77be",
   "metadata": {},
   "outputs": [],
   "source": [
    "r = re.compile('\\d.')\n",
    "\n",
    "mars_facts_cleaned = list(filter(r.match, mars_facts))\n",
    "\n",
    "mars_facts_cleaned"
   ]
  },
  {
   "cell_type": "markdown",
   "id": "9669eef6",
   "metadata": {},
   "source": [
    "### Space Facts"
   ]
  },
  {
   "cell_type": "code",
   "execution_count": null,
   "id": "d1b2419a",
   "metadata": {},
   "outputs": [],
   "source": [
    "response = requests.get(url='https://www.natgeokids.com/uk/discover/science/space/ten-facts-about-space/')\n",
    "response.status_code\n",
    "soup = BeautifulSoup(response.content)"
   ]
  },
  {
   "cell_type": "code",
   "execution_count": null,
   "id": "a77277e0",
   "metadata": {},
   "outputs": [],
   "source": [
    "# Space Facts location\n",
    "\n",
    "space = soup.find('div',attrs={'class':'article-sheet'}).find_all('p')"
   ]
  },
  {
   "cell_type": "code",
   "execution_count": null,
   "id": "2e8a5871",
   "metadata": {},
   "outputs": [],
   "source": [
    "# List of Space Facts\n",
    "\n",
    "space_facts = []\n",
    "\n",
    "for item in space:\n",
    "    facts = item.get_text().replace('\\xa0',' ')\n",
    "    space_facts.append(facts)"
   ]
  },
  {
   "cell_type": "code",
   "execution_count": null,
   "id": "8a3e8172",
   "metadata": {},
   "outputs": [],
   "source": [
    "r = re.compile('\\d.')\n",
    "\n",
    "space_facts_cleaned = list(filter(r.match, space_facts))\n",
    "\n",
    "space_facts_cleaned"
   ]
  },
  {
   "cell_type": "markdown",
   "id": "0758f481",
   "metadata": {},
   "source": [
    "### Human Body Facts"
   ]
  },
  {
   "cell_type": "code",
   "execution_count": null,
   "id": "cc56e930",
   "metadata": {},
   "outputs": [],
   "source": [
    "response = requests.get(url='https://www.natgeokids.com/uk/discover/science/general-science/15-facts-about-the-human-body/')\n",
    "response.status_code\n",
    "soup = BeautifulSoup(response.content)"
   ]
  },
  {
   "cell_type": "code",
   "execution_count": null,
   "id": "ac73c23b",
   "metadata": {},
   "outputs": [],
   "source": [
    "# Human Body Facts location\n",
    "\n",
    "human = soup.find('div',attrs={'class':'article-sheet'}).find_all('p')"
   ]
  },
  {
   "cell_type": "code",
   "execution_count": null,
   "id": "006b040b",
   "metadata": {},
   "outputs": [],
   "source": [
    "# List of Human Body Facts\n",
    "\n",
    "human_facts = []\n",
    "\n",
    "for item in human:\n",
    "    facts = item.get_text()\n",
    "    human_facts.append(facts)"
   ]
  },
  {
   "cell_type": "code",
   "execution_count": null,
   "id": "c3b843f1",
   "metadata": {},
   "outputs": [],
   "source": [
    "r = re.compile('\\d.')\n",
    "\n",
    "first_clean = list(filter(r.match, human_facts))"
   ]
  },
  {
   "cell_type": "code",
   "execution_count": null,
   "id": "5e8081be",
   "metadata": {},
   "outputs": [],
   "source": [
    "second_clean = []\n",
    "\n",
    "for item in first_clean:\n",
    "    fact = item.split('\\n')\n",
    "    second_clean.append(fact)"
   ]
  },
  {
   "cell_type": "code",
   "execution_count": null,
   "id": "3a2aad30",
   "metadata": {},
   "outputs": [],
   "source": [
    "human_facts_cleaned = [fact for innerList in second_clean for fact in innerList]\n",
    "\n",
    "human_facts_cleaned"
   ]
  },
  {
   "cell_type": "markdown",
   "id": "d184452c",
   "metadata": {},
   "source": [
    "### Earth Facts"
   ]
  },
  {
   "cell_type": "code",
   "execution_count": null,
   "id": "be072ccf",
   "metadata": {},
   "outputs": [],
   "source": [
    "response = requests.get(url='https://www.natgeokids.com/uk/discover/science/space/facts-about-the-earth/')\n",
    "response.status_code\n",
    "soup = BeautifulSoup(response.content)"
   ]
  },
  {
   "cell_type": "code",
   "execution_count": null,
   "id": "23d8f647",
   "metadata": {},
   "outputs": [],
   "source": [
    "# Earth Facts location\n",
    "\n",
    "earth = soup.find_all('span',attrs={'class':'m_157449401609115947gmail-s2'})"
   ]
  },
  {
   "cell_type": "code",
   "execution_count": null,
   "id": "1127ff58",
   "metadata": {},
   "outputs": [],
   "source": [
    "# List of Space Facts\n",
    "\n",
    "earth_facts = []\n",
    "\n",
    "for item in earth:\n",
    "    facts = item.get_text().replace('\\xa0',' ').replace('\\n','')\n",
    "    earth_facts.append(facts)"
   ]
  },
  {
   "cell_type": "code",
   "execution_count": null,
   "id": "ec7c6b1a",
   "metadata": {},
   "outputs": [],
   "source": [
    "r = re.compile('\\d.')\n",
    "\n",
    "earth_facts_cleaned = list(filter(r.match, earth_facts))\n",
    "\n",
    "earth_facts_cleaned"
   ]
  },
  {
   "cell_type": "markdown",
   "id": "8d3ac796",
   "metadata": {},
   "source": [
    "### Stephen Hawking Facts"
   ]
  },
  {
   "cell_type": "code",
   "execution_count": null,
   "id": "0d33d156",
   "metadata": {},
   "outputs": [],
   "source": [
    "response = requests.get(url='https://www.natgeokids.com/uk/discover/science/general-science/stephen-hawking-facts/')\n",
    "response.status_code\n",
    "soup = BeautifulSoup(response.content)"
   ]
  },
  {
   "cell_type": "code",
   "execution_count": null,
   "id": "d2a847d3",
   "metadata": {},
   "outputs": [],
   "source": [
    "# Stephen Hawking Facts location\n",
    "\n",
    "stephen = soup.find('div',attrs={'class':'article-sheet'}).find_all('p')"
   ]
  },
  {
   "cell_type": "code",
   "execution_count": null,
   "id": "09ccdfba",
   "metadata": {},
   "outputs": [],
   "source": [
    "# List of Stephen Hawking Facts\n",
    "\n",
    "stephen_facts = []\n",
    "\n",
    "for item in stephen:\n",
    "    facts = item.get_text().replace('\\xa0',' ')\n",
    "    stephen_facts.append(facts)"
   ]
  },
  {
   "cell_type": "code",
   "execution_count": null,
   "id": "b55b44de",
   "metadata": {},
   "outputs": [],
   "source": [
    "r = re.compile('\\d.')\n",
    "\n",
    "stephen_facts_cleaned = list(filter(r.match, stephen_facts))\n",
    "\n",
    "stephen_facts_cleaned"
   ]
  },
  {
   "cell_type": "markdown",
   "id": "64ba6a25",
   "metadata": {},
   "source": [
    "## Science Facts into Banana Language"
   ]
  },
  {
   "cell_type": "code",
   "execution_count": null,
   "id": "4a12e06d",
   "metadata": {},
   "outputs": [],
   "source": [
    "# Function to get random facts out of a selected category\n",
    "\n",
    "cat_dict = {'Mars':mars_facts_cleaned,'Space':space_facts_cleaned,'Human Body':human_facts_cleaned,\n",
    "            'The Earth':earth_facts_cleaned,'Stephen Hawking':stephen_facts_cleaned}\n",
    "\n",
    "def display_category_fact(category):\n",
    "    global fact_english\n",
    "    fact_english = cat_dict[category][random.choice(range(len(cat_dict[category])))]\n",
    "    params = {'text': fact_english}\n",
    "    response = requests.get('https://api.funtranslations.com/translate/minion.json', params)\n",
    "    fact_banana = json.loads(response.content)['contents']['translated']\n",
    "    print(fact_banana)"
   ]
  },
  {
   "cell_type": "code",
   "execution_count": null,
   "id": "3be8d1e0",
   "metadata": {},
   "outputs": [],
   "source": [
    "# Display of random facts based on category\n",
    "\n",
    "categories = ['Mars','Space','Human Body','The Earth','Stephen Hawking']\n",
    "\n",
    "def choose_category():\n",
    "    x = input('Time to learn! Choose a category: ') \n",
    "    if x in categories:\n",
    "        display_category_fact(x)\n",
    "    else: choose_category()\n",
    "\n",
    "choose_category()"
   ]
  },
  {
   "cell_type": "code",
   "execution_count": null,
   "id": "dab1a5de",
   "metadata": {},
   "outputs": [],
   "source": [
    "print(fact_english)"
   ]
  }
 ],
 "metadata": {
  "kernelspec": {
   "display_name": "Python 3.11.0 64-bit",
   "language": "python",
   "name": "python3"
  },
  "language_info": {
   "codemirror_mode": {
    "name": "ipython",
    "version": 3
   },
   "file_extension": ".py",
   "mimetype": "text/x-python",
   "name": "python",
   "nbconvert_exporter": "python",
   "pygments_lexer": "ipython3",
   "version": "3.11.0"
  },
  "vscode": {
   "interpreter": {
    "hash": "5238573367df39f7286bb46f9ff5f08f63a01a80960060ce41e3c79b190280fa"
   }
  }
 },
 "nbformat": 4,
 "nbformat_minor": 5
}
